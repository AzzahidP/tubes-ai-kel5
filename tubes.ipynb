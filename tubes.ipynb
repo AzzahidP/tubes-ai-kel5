{
 "cells": [
  {
   "cell_type": "code",
   "execution_count": 13,
   "metadata": {},
   "outputs": [],
   "source": [
    "import pandas as pd, numpy as np, matplotlib.pyplot as plt\n",
    "from matplotlib import colors\n",
    "from matplotlib.ticker import PercentFormatter\n",
    "import re, string, nltk, json, tqdm, gensim, tweepy\n",
    "from nltk.corpus import stopwords\n",
    "from nltk.tokenize import word_tokenize\n",
    "from nltk.probability import FreqDist\n",
    "from pprint import pprint\n",
    "from datetime import datetime\n",
    "from sklearn.feature_extraction.text import TfidfVectorizer\n",
    "from sklearn.naive_bayes import GaussianNB\n",
    "from sklearn.model_selection import train_test_split\n",
    "from sklearn.metrics import classification_report, confusion_matrix, accuracy_score\n",
    "from wordcloud import WordCloud"
   ]
  },
  {
   "cell_type": "code",
   "execution_count": 14,
   "metadata": {},
   "outputs": [],
   "source": [
    "# Baca token untuk akses twitter API\n",
    "bearer_token = \"AAAAAAAAAAAAAAAAAAAAAP8JZgEAAAAAKbnX%2B0MQauzdx2Z6mbX2FdqgMU4%3Dg9yEn4GIdcUSeClhEa3XzGZC8qYOaXi1wO8ynQZvCk2q8lrzmp\"\n",
    "api_key = \"cY1q71v6wODsBM5MLVYLJnTCE\"\n",
    "api_key_secret = \"NrCvpNSX5a8cDm6q7373tiecLWgif7yu6mHWL9EjYaIkvTfwX1\"\n",
    "access_token = \"1496053841896550402-XQF7FT6ckrHvZJYejX67z5r6dn71ey\"\n",
    "access_token_secret = \"XYrFndSg5iJjrjLAakHHSEpqBSPUqT5wBun3wAfVRfU24\""
   ]
  },
  {
   "cell_type": "code",
   "execution_count": 29,
   "metadata": {},
   "outputs": [],
   "source": [
    "# Autentikasi twitter API\n",
    "api = tweepy.Client(bearer_token=bearer_token, wait_on_rate_limit=True)\n",
    "\n",
    "# Kata kunci pencarian topik ini menggunakan hashtag agar lebih relevan\n",
    "keyword = \"#UkraineRussiaWar\"\n",
    "search_query = keyword + \"-filter:retweets\""
   ]
  },
  {
   "cell_type": "code",
   "execution_count": 51,
   "metadata": {},
   "outputs": [
    {
     "data": {
      "text/html": [
       "<div>\n",
       "<style scoped>\n",
       "    .dataframe tbody tr th:only-of-type {\n",
       "        vertical-align: middle;\n",
       "    }\n",
       "\n",
       "    .dataframe tbody tr th {\n",
       "        vertical-align: top;\n",
       "    }\n",
       "\n",
       "    .dataframe thead th {\n",
       "        text-align: right;\n",
       "    }\n",
       "</style>\n",
       "<table border=\"1\" class=\"dataframe\">\n",
       "  <thead>\n",
       "    <tr style=\"text-align: right;\">\n",
       "      <th></th>\n",
       "      <th>tweet</th>\n",
       "    </tr>\n",
       "  </thead>\n",
       "  <tbody>\n",
       "    <tr>\n",
       "      <th>0</th>\n",
       "      <td>@cenkuygur #Ukraine️ #UkraineRussiaWar \\nhttps...</td>\n",
       "    </tr>\n",
       "    <tr>\n",
       "      <th>1</th>\n",
       "      <td>RT @ukraine_world: Silence also kills. Those w...</td>\n",
       "    </tr>\n",
       "    <tr>\n",
       "      <th>2</th>\n",
       "      <td>♦️A clandestine call center in #Berdyansk. Sca...</td>\n",
       "    </tr>\n",
       "    <tr>\n",
       "      <th>3</th>\n",
       "      <td>RT @fridrian: City #Mariupol is under russian ...</td>\n",
       "    </tr>\n",
       "    <tr>\n",
       "      <th>4</th>\n",
       "      <td>RT @gbazov: #MARIUPOL—Interviews Part #2b—#Ukr...</td>\n",
       "    </tr>\n",
       "  </tbody>\n",
       "</table>\n",
       "</div>"
      ],
      "text/plain": [
       "                                               tweet\n",
       "0  @cenkuygur #Ukraine️ #UkraineRussiaWar \\nhttps...\n",
       "1  RT @ukraine_world: Silence also kills. Those w...\n",
       "2  ♦️A clandestine call center in #Berdyansk. Sca...\n",
       "3  RT @fridrian: City #Mariupol is under russian ...\n",
       "4  RT @gbazov: #MARIUPOL—Interviews Part #2b—#Ukr..."
      ]
     },
     "metadata": {},
     "output_type": "display_data"
    }
   ],
   "source": [
    "# Membuat request tweets sesuai kata kunci yang sudah ditentukan\n",
    "response = tweepy.Paginator(\n",
    "    api.search_recent_tweets,\n",
    "    query=keyword,\n",
    "    max_results=100\n",
    ").flatten(limit=100)\n",
    "\n",
    "# Menyimpan data tweets ke dalam array dan pandas dataframe dan menyimpan ke dalam file csv\n",
    "tweets_array = []\n",
    "for tweet in response:\n",
    "    tweets_array.append(tweet.text.strip())\n",
    "\n",
    "df_tweets = pd.DataFrame(tweets_array, columns = ['tweet'])\n",
    "\n",
    "# Menampilkan dataframe\n",
    "display(df_tweets.head())"
   ]
  },
  {
   "cell_type": "code",
   "execution_count": 49,
   "metadata": {},
   "outputs": [
    {
     "name": "stdout",
     "output_type": "stream",
     "text": [
      "100\n"
     ]
    }
   ],
   "source": [
    "keyword2 = \"#StandWithUkraine\""
   ]
  }
 ],
 "metadata": {
  "interpreter": {
   "hash": "aee8b7b246df8f9039afb4144a1f6fd8d2ca17a180786b69acc140d282b71a49"
  },
  "kernelspec": {
   "display_name": "Python 3.9.2 64-bit",
   "language": "python",
   "name": "python3"
  },
  "language_info": {
   "codemirror_mode": {
    "name": "ipython",
    "version": 3
   },
   "file_extension": ".py",
   "mimetype": "text/x-python",
   "name": "python",
   "nbconvert_exporter": "python",
   "pygments_lexer": "ipython3",
   "version": "3.9.2"
  },
  "orig_nbformat": 4
 },
 "nbformat": 4,
 "nbformat_minor": 2
}
